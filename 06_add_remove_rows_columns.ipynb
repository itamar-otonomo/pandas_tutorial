{
 "cells": [
  {
   "cell_type": "code",
   "execution_count": null,
   "metadata": {},
   "outputs": [],
   "source": [
    "import pandas as pd"
   ]
  },
  {
   "cell_type": "code",
   "execution_count": null,
   "metadata": {},
   "outputs": [],
   "source": [
    "pdf_persons = pd.DataFrame({\n",
    "    \"first\": [\"Efi\", \"Fritz\", \"Dixie\", \"Theodor\"],\n",
    "    \"last\": [\"Coman\", \"Johansen\", \"Normus\", \"Normus\"],\n",
    "    \"email\": [\"EfiComan@purim.org\", \"Fandango@bar.gov\", \"NormusDixie@gmail.com\", \"theOdOr@bbs.co.il\"]\n",
    "})"
   ]
  },
  {
   "cell_type": "code",
   "execution_count": null,
   "metadata": {},
   "outputs": [],
   "source": [
    "pdf_persons['first'] + ' ' + pdf_persons['last']"
   ]
  },
  {
   "cell_type": "code",
   "execution_count": null,
   "metadata": {},
   "outputs": [],
   "source": [
    "pdf_persons['full_name'] = pdf_persons['first'] + ' ' + pdf_persons['last']\n",
    "pdf_persons\n",
    "\n",
    "# make sure you use the brackets and not the dot notation of a DataFrame"
   ]
  },
  {
   "cell_type": "code",
   "execution_count": null,
   "metadata": {},
   "outputs": [],
   "source": [
    "pdf_persons.drop(columns=['first', 'last'])"
   ]
  },
  {
   "cell_type": "code",
   "execution_count": null,
   "metadata": {},
   "outputs": [],
   "source": [
    "pdf_persons.drop(columns=['first', 'last'], inplace=True)\n",
    "pdf_persons"
   ]
  },
  {
   "cell_type": "code",
   "execution_count": null,
   "metadata": {},
   "outputs": [],
   "source": [
    "# what about the other way around?\n",
    "pdf_persons.full_name.str.split(' ')"
   ]
  },
  {
   "cell_type": "code",
   "execution_count": null,
   "metadata": {},
   "outputs": [],
   "source": [
    "# use expand to create a column per splitted object\n",
    "pdf_persons.full_name.str.split(' ', expand=True)"
   ]
  },
  {
   "cell_type": "code",
   "execution_count": null,
   "metadata": {},
   "outputs": [],
   "source": [
    "pdf_persons[['first', 'last']] = pdf_persons.full_name.str.split(' ', expand=True)\n",
    "pdf_persons"
   ]
  },
  {
   "cell_type": "markdown",
   "metadata": {},
   "source": [
    "## Appending rows/DataFrames to an existing DataFrame"
   ]
  },
  {
   "cell_type": "code",
   "execution_count": null,
   "metadata": {},
   "outputs": [],
   "source": [
    "pdf_persons.append({'email': 'a@a.net', 'full_name': 'Jerry Jones'}, ignore_index=True)"
   ]
  },
  {
   "cell_type": "code",
   "execution_count": null,
   "metadata": {},
   "outputs": [],
   "source": [
    "pdf_persons_the_others = pd.DataFrame(\n",
    "    {'last': ['Stark', 'Rogers'],\n",
    "    'first': ['Toney', 'Steve'],\n",
    "    'email': ['IronMan@avenge.com', 'Cap@avenge.com']})"
   ]
  },
  {
   "cell_type": "code",
   "execution_count": null,
   "metadata": {},
   "outputs": [],
   "source": [
    "# Concatenate two dataframes into one.\n",
    "pdf_persons2 = pd.concat([pdf_persons, pdf_persons_the_others]) #, ignore_index=True)\n",
    "pdf_persons2"
   ]
  },
  {
   "cell_type": "code",
   "execution_count": null,
   "metadata": {},
   "outputs": [],
   "source": [
    "# Getting rid of rows in a DataFrame\n",
    "filt = pdf_persons2['last'] == 'Rogers'\n",
    "pdf_persons2.drop(pdf_persons2[filt].index)"
   ]
  },
  {
   "cell_type": "code",
   "execution_count": null,
   "metadata": {},
   "outputs": [],
   "source": [
    "# Drop can be used on the other axis (columns)\n",
    "pdf_persons2.drop(['full_name'], axis=1)\n",
    "# pdf_persons2.drop(columns=['full_name'])"
   ]
  },
  {
   "cell_type": "code",
   "execution_count": null,
   "metadata": {},
   "outputs": [],
   "source": []
  }
 ],
 "metadata": {
  "kernelspec": {
   "display_name": "Python 3.10.5 ('myenv')",
   "language": "python",
   "name": "python3"
  },
  "language_info": {
   "codemirror_mode": {
    "name": "ipython",
    "version": 3
   },
   "file_extension": ".py",
   "mimetype": "text/x-python",
   "name": "python",
   "nbconvert_exporter": "python",
   "pygments_lexer": "ipython3",
   "version": "3.10.5"
  },
  "orig_nbformat": 4,
  "vscode": {
   "interpreter": {
    "hash": "266e07f64aa3f1afd9991a0b824d04fa241a0ccb3b0a1eb69e96cbe416527717"
   }
  }
 },
 "nbformat": 4,
 "nbformat_minor": 2
}
