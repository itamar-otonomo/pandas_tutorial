{
 "cells": [
  {
   "cell_type": "code",
   "execution_count": null,
   "metadata": {},
   "outputs": [],
   "source": [
    "import pandas as pd"
   ]
  },
  {
   "cell_type": "code",
   "execution_count": null,
   "metadata": {},
   "outputs": [],
   "source": [
    "pdf = pd.read_csv('./data/survey_results_public.csv', index_col='ResponseId')\n",
    "schema_pdf = pd.read_csv('./data/survey_results_schema.csv', index_col='qname')\n",
    "pdf_persons = pd.DataFrame({\n",
    "    \"first\": [\"Efi\", \"Fritz\", \"Dixie\", \"Theodor\"],\n",
    "    \"last\": [\"Coman\", \"Johansen\", \"Normus\", \"Normus\"],\n",
    "    \"email\": [\"eficoman@purim.org\", \"Fandango@bar.gov\", \"normusdixie@gmail.com\", \"theodor@bbs.co.il\"]\n",
    "})"
   ]
  },
  {
   "cell_type": "code",
   "execution_count": null,
   "metadata": {},
   "outputs": [],
   "source": [
    "pdf_persons"
   ]
  },
  {
   "cell_type": "code",
   "execution_count": null,
   "metadata": {},
   "outputs": [],
   "source": [
    "# Creating a filter mask\n",
    "pdf_persons['last'] == 'Normus'"
   ]
  },
  {
   "cell_type": "code",
   "execution_count": null,
   "metadata": {},
   "outputs": [],
   "source": [
    "filt = (pdf_persons['last'] == 'Normus')"
   ]
  },
  {
   "cell_type": "code",
   "execution_count": null,
   "metadata": {},
   "outputs": [],
   "source": [
    "pdf_persons[filt]\n",
    "# pdf_persons[pdf_persons['last'] == 'Normus']\n",
    "# pdf_persons.loc[filt]  # Will allow us to also get a columns subset"
   ]
  },
  {
   "cell_type": "code",
   "execution_count": null,
   "metadata": {},
   "outputs": [],
   "source": [
    "# and is &\n",
    "# or is |\n",
    "\n",
    "filt = (pdf_persons['last'] == 'Normus') & (pdf_persons['first'] == 'Theodor')\n",
    "pdf_persons.loc[filt, 'email']"
   ]
  },
  {
   "cell_type": "code",
   "execution_count": null,
   "metadata": {},
   "outputs": [],
   "source": [
    "filt = (pdf_persons['last'] == 'Coman') | (pdf_persons['first'] == 'Fritz')\n",
    "pdf_persons.loc[filt]"
   ]
  },
  {
   "cell_type": "code",
   "execution_count": null,
   "metadata": {},
   "outputs": [],
   "source": [
    "# to negate use ~\n",
    "pdf_persons.loc[~filt]\n",
    "# filt\n",
    "# ~filt"
   ]
  },
  {
   "cell_type": "code",
   "execution_count": null,
   "metadata": {},
   "outputs": [],
   "source": [
    "# Let's look for people with Compensation over 10k$\n",
    "filtered_pdf = pdf.loc[pdf['CompTotal'] > 1000]\n",
    "filtered_pdf"
   ]
  },
  {
   "cell_type": "code",
   "execution_count": null,
   "metadata": {},
   "outputs": [],
   "source": [
    "# \n",
    "c = pdf.Country.value_counts()"
   ]
  },
  {
   "cell_type": "code",
   "execution_count": null,
   "metadata": {},
   "outputs": [],
   "source": [
    "# Use some python-like filtering \n",
    "required_countries = [\"Israel\", \"United States\", \"India\"] \n",
    "country_filter = pdf['Country'].isin(required_countries)"
   ]
  },
  {
   "cell_type": "code",
   "execution_count": null,
   "metadata": {},
   "outputs": [],
   "source": [
    "pdf.loc[country_filter, ['RemoteWork', 'EdLevel']]"
   ]
  },
  {
   "cell_type": "code",
   "execution_count": null,
   "metadata": {},
   "outputs": [],
   "source": [
    "# Let's try filtering out stuff from a string column\n",
    "pdf.LanguageHaveWorkedWith"
   ]
  },
  {
   "cell_type": "code",
   "execution_count": null,
   "metadata": {},
   "outputs": [],
   "source": [
    "# Lets say we want people that have Python in the list of languages.\n",
    "filt = pdf['LanguageHaveWorkedWith'].str.contains('Python')"
   ]
  },
  {
   "cell_type": "code",
   "execution_count": null,
   "metadata": {},
   "outputs": [],
   "source": [
    "pdf.loc[filt, ['Country', 'Currency']]"
   ]
  },
  {
   "cell_type": "code",
   "execution_count": null,
   "metadata": {},
   "outputs": [],
   "source": [
    "# Dang! lets see what is wrong with our filter\n",
    "filt\n",
    "# filt.hasnans"
   ]
  },
  {
   "cell_type": "code",
   "execution_count": null,
   "metadata": {},
   "outputs": [],
   "source": [
    "# Let's fix the filter, make sure NaN fields are taken care of\n",
    "filt = pdf['LanguageHaveWorkedWith'].str.contains('Python', na=False)"
   ]
  },
  {
   "cell_type": "code",
   "execution_count": null,
   "metadata": {},
   "outputs": [],
   "source": [
    "# Once more unto the breach, dear friends, once more\n",
    "pdf.loc[filt, ['Country', 'Currency', 'LanguageHaveWorkedWith']]"
   ]
  },
  {
   "cell_type": "code",
   "execution_count": null,
   "metadata": {},
   "outputs": [],
   "source": []
  }
 ],
 "metadata": {
  "kernelspec": {
   "display_name": "Python 3.10.5 ('myenv')",
   "language": "python",
   "name": "python3"
  },
  "language_info": {
   "codemirror_mode": {
    "name": "ipython",
    "version": 3
   },
   "file_extension": ".py",
   "mimetype": "text/x-python",
   "name": "python",
   "nbconvert_exporter": "python",
   "pygments_lexer": "ipython3",
   "version": "3.10.5"
  },
  "orig_nbformat": 4,
  "vscode": {
   "interpreter": {
    "hash": "266e07f64aa3f1afd9991a0b824d04fa241a0ccb3b0a1eb69e96cbe416527717"
   }
  }
 },
 "nbformat": 4,
 "nbformat_minor": 2
}
