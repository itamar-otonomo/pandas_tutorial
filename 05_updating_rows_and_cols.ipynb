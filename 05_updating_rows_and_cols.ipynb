{
 "cells": [
  {
   "cell_type": "code",
   "execution_count": null,
   "metadata": {},
   "outputs": [],
   "source": [
    "import pandas as pd"
   ]
  },
  {
   "cell_type": "code",
   "execution_count": null,
   "metadata": {},
   "outputs": [],
   "source": [
    "pdf = pd.read_csv('./data/survey_results_public.csv', index_col='ResponseId')\n",
    "schema_pdf = pd.read_csv('./data/survey_results_schema.csv', index_col='qname')\n",
    "pdf_persons = pd.DataFrame({\n",
    "    \"first\": [\"Efi\", \"Fritz\", \"Dixie\", \"Theodor\"],\n",
    "    \"last\": [\"Coman\", \"Johansen\", \"Normus\", \"Normus\"],\n",
    "    \"email\": [\"EfiComan@purim.org\", \"Fandango@bar.gov\", \"NormusDixie@gmail.com\", \"theOdOr@bbs.co.il\"]\n",
    "})"
   ]
  },
  {
   "cell_type": "code",
   "execution_count": null,
   "metadata": {},
   "outputs": [],
   "source": [
    "pdf_persons.columns"
   ]
  },
  {
   "cell_type": "code",
   "execution_count": null,
   "metadata": {},
   "outputs": [],
   "source": [
    "# This will change the names of all columns (except for 'email' as it is the same)\n",
    "pdf_persons.columns = ['first_name', 'last_name', 'email']\n",
    "pdf_persons"
   ]
  },
  {
   "cell_type": "code",
   "execution_count": null,
   "metadata": {},
   "outputs": [],
   "source": [
    "# Let's use list comprehension to upper case all columns\n",
    "\n",
    "pdf_persons.columns = [x.upper() for x in pdf_persons.columns]\n",
    "pdf_persons.columns "
   ]
  },
  {
   "cell_type": "code",
   "execution_count": null,
   "metadata": {},
   "outputs": [],
   "source": [
    "# replace spaces with underscores in column names\n",
    "pdf_persons.columns = [x.replace(' ', '_') for x in pdf_persons.columns]"
   ]
  },
  {
   "cell_type": "code",
   "execution_count": null,
   "metadata": {},
   "outputs": [],
   "source": [
    "# Renaming only specific columns\n",
    "pdf_persons.rename(columns={\n",
    "    'FIRST_NAME': 'first',\n",
    "    'LAST_NAME': 'last'\n",
    "})"
   ]
  },
  {
   "cell_type": "code",
   "execution_count": null,
   "metadata": {},
   "outputs": [],
   "source": [
    "# make sure you did it inplace\n",
    "pdf_persons"
   ]
  },
  {
   "cell_type": "code",
   "execution_count": null,
   "metadata": {},
   "outputs": [],
   "source": [
    "pdf_persons.rename(columns={\n",
    "    'FIRST_NAME': 'first',\n",
    "    'LAST_NAME': 'last',\n",
    "    'EMAIL': 'email'\n",
    "}, inplace=True)\n",
    "pdf_persons"
   ]
  },
  {
   "cell_type": "code",
   "execution_count": null,
   "metadata": {},
   "outputs": [],
   "source": [
    "# Change content of a row\n",
    "pdf_persons.loc[3]  # = ['Theodor', 'Normix', 'a@a.com']\n",
    "pdf_persons"
   ]
  },
  {
   "cell_type": "code",
   "execution_count": null,
   "metadata": {},
   "outputs": [],
   "source": [
    "# What happens if there are tons of columns and we want to change the content of only a few?\n",
    "# Just use loc[] again\n",
    "\n",
    "pdf_persons.loc[3, ['last', 'email']] = ['Normus', 'theOdOr@bbs.co.il']\n",
    "pdf_persons\n"
   ]
  },
  {
   "cell_type": "code",
   "execution_count": null,
   "metadata": {},
   "outputs": [],
   "source": [
    "# Change a single value\n",
    "pdf_persons.loc[3, 'last'] = 'Normus1'\n",
    "pdf_persons"
   ]
  },
  {
   "cell_type": "code",
   "execution_count": null,
   "metadata": {},
   "outputs": [],
   "source": [
    "# Adding a new column\n",
    "pdf_persons['bobo'] = 'bobo'  #[f'bobo_{x}' for x in range(4)]\n",
    "pdf_persons"
   ]
  },
  {
   "cell_type": "code",
   "execution_count": null,
   "metadata": {},
   "outputs": [],
   "source": [
    "# change only specific entries in a column by value of other columns in the row\n",
    "filt = (pdf_persons['last'].str.lower().str.startswith('normus'))\n",
    "pdf_persons.loc[filt, 'bobo'] = 'is_normus'\n",
    "pdf_persons"
   ]
  },
  {
   "cell_type": "markdown",
   "metadata": {},
   "source": [
    "## The 4 methods of conditionally changing cell contents\n",
    "* apply\n",
    "* map\n",
    "* applymap\n",
    "* replace"
   ]
  },
  {
   "cell_type": "markdown",
   "metadata": {},
   "source": [
    "## The `apply()` method"
   ]
  },
  {
   "cell_type": "code",
   "execution_count": null,
   "metadata": {},
   "outputs": [],
   "source": [
    "# apply\n",
    "pdf_persons['email'].apply(len)"
   ]
  },
  {
   "cell_type": "code",
   "execution_count": null,
   "metadata": {},
   "outputs": [],
   "source": [
    "def update_email(email: str) -> str:\n",
    "    return email.upper()"
   ]
  },
  {
   "cell_type": "code",
   "execution_count": null,
   "metadata": {},
   "outputs": [],
   "source": [
    "# use apply with custom function\n",
    "pdf_persons['email'] = pdf_persons['email'].apply(update_email)\n",
    "pdf_persons"
   ]
  },
  {
   "cell_type": "code",
   "execution_count": null,
   "metadata": {},
   "outputs": [],
   "source": [
    "# use apply with lambda function\n",
    "pdf_persons['email'] = pdf_persons['email'].apply(lambda x: x.lower())\n",
    "pdf_persons"
   ]
  },
  {
   "cell_type": "code",
   "execution_count": null,
   "metadata": {},
   "outputs": [],
   "source": [
    "# what happens when we use apply on a DataFrame (till now we used it on a Series)\n",
    "pdf_persons.apply(len)\n",
    "# the function is run once per series"
   ]
  },
  {
   "cell_type": "code",
   "execution_count": null,
   "metadata": {},
   "outputs": [],
   "source": [
    "len(pdf_persons.email)"
   ]
  },
  {
   "cell_type": "markdown",
   "metadata": {},
   "source": [
    "## The `applymap()` method\n",
    "\n",
    "like apply but when used on a DataFrame, runs the required function on every cell (instead of every Series in the axis)"
   ]
  },
  {
   "cell_type": "code",
   "execution_count": null,
   "metadata": {},
   "outputs": [],
   "source": [
    "pdf_persons.applymap(len)"
   ]
  },
  {
   "cell_type": "markdown",
   "metadata": {},
   "source": [
    "## The `map()` method\n",
    "\n",
    "Map values of Series according to an input mapping or function."
   ]
  },
  {
   "cell_type": "code",
   "execution_count": null,
   "metadata": {},
   "outputs": [],
   "source": [
    "pdf_persons.email.map({'theodor@bbs.co.il': 'bobo@bobo.org', 'fandango@bar.gov': 'b@b.c'})"
   ]
  },
  {
   "cell_type": "code",
   "execution_count": null,
   "metadata": {},
   "outputs": [],
   "source": [
    "# See that when there is no match, the value for the cell is NaN. Better use Series.replace() like we showed earlier to change a subset using a mapped object.\n",
    "pdf_persons.email.replace({'theodor@bbs.co.il': 'bobo@bobo.org', 'fandango@bar.gov': 'b@b.c'})"
   ]
  },
  {
   "cell_type": "code",
   "execution_count": null,
   "metadata": {},
   "outputs": [],
   "source": []
  }
 ],
 "metadata": {
  "kernelspec": {
   "display_name": "Python 3.10.5 ('myenv')",
   "language": "python",
   "name": "python3"
  },
  "language_info": {
   "codemirror_mode": {
    "name": "ipython",
    "version": 3
   },
   "file_extension": ".py",
   "mimetype": "text/x-python",
   "name": "python",
   "nbconvert_exporter": "python",
   "pygments_lexer": "ipython3",
   "version": "3.10.5"
  },
  "orig_nbformat": 4,
  "vscode": {
   "interpreter": {
    "hash": "266e07f64aa3f1afd9991a0b824d04fa241a0ccb3b0a1eb69e96cbe416527717"
   }
  }
 },
 "nbformat": 4,
 "nbformat_minor": 2
}
