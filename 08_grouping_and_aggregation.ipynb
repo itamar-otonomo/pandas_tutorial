{
 "cells": [
  {
   "cell_type": "code",
   "execution_count": null,
   "metadata": {},
   "outputs": [],
   "source": [
    "import pandas as pd"
   ]
  },
  {
   "cell_type": "code",
   "execution_count": null,
   "metadata": {},
   "outputs": [],
   "source": [
    "pdf = pd.read_csv('./data/survey_results_public.csv')"
   ]
  },
  {
   "cell_type": "code",
   "execution_count": null,
   "metadata": {},
   "outputs": [],
   "source": [
    "# Getting an aggregate function on a Series/Column\n",
    "pdf['ConvertedCompYearly'].median()"
   ]
  },
  {
   "cell_type": "code",
   "execution_count": null,
   "metadata": {},
   "outputs": [],
   "source": [
    "# Get the median on any allegible column in the DataFrame\n",
    "pdf.median(numeric_only=True) "
   ]
  },
  {
   "cell_type": "code",
   "execution_count": null,
   "metadata": {},
   "outputs": [],
   "source": [
    "pdf.describe()"
   ]
  },
  {
   "cell_type": "code",
   "execution_count": null,
   "metadata": {},
   "outputs": [],
   "source": [
    "# Count non NaN entries in column\n",
    "pdf.CompTotal.count()"
   ]
  },
  {
   "cell_type": "code",
   "execution_count": null,
   "metadata": {},
   "outputs": [],
   "source": [
    "# Get a glimps of columns with a small set of values.\n",
    "pdf.Blockchain.value_counts()"
   ]
  },
  {
   "cell_type": "code",
   "execution_count": null,
   "metadata": {},
   "outputs": [],
   "source": [
    "# Want to know the percentages?\n",
    "# use normalize=True\n",
    "pdf.Blockchain.value_counts(normalize=True) #* 1e2 #.sum()"
   ]
  },
  {
   "cell_type": "code",
   "execution_count": null,
   "metadata": {},
   "outputs": [],
   "source": [
    "# What if we want to analyze by country?\n",
    "country_gb = pdf.groupby('Country')"
   ]
  },
  {
   "cell_type": "code",
   "execution_count": null,
   "metadata": {},
   "outputs": [],
   "source": [
    "country_gb.get_group('United States of America')"
   ]
  },
  {
   "cell_type": "code",
   "execution_count": null,
   "metadata": {},
   "outputs": [],
   "source": [
    "filt = pdf['Country'] == 'United States of America'\n",
    "pdf.loc[filt]['Blockchain'].value_counts()"
   ]
  },
  {
   "cell_type": "code",
   "execution_count": null,
   "metadata": {},
   "outputs": [],
   "source": [
    "a = country_gb['Blockchain'].value_counts()"
   ]
  },
  {
   "cell_type": "code",
   "execution_count": null,
   "metadata": {},
   "outputs": [],
   "source": [
    "# Hey we got a multiple indexes!\n",
    "a.head(50)"
   ]
  },
  {
   "cell_type": "code",
   "execution_count": null,
   "metadata": {},
   "outputs": [],
   "source": [
    "# mulpiple indexes means I can:\n",
    "\n",
    "a['Russian Federation']"
   ]
  },
  {
   "cell_type": "code",
   "execution_count": null,
   "metadata": {},
   "outputs": [],
   "source": [
    "# Now, how do we get the median of salary groupped by country?\n",
    "\n",
    "country_gb['CompTotal'].median()"
   ]
  },
  {
   "cell_type": "code",
   "execution_count": null,
   "metadata": {},
   "outputs": [],
   "source": [
    "# What if we want to run multiple agg functions on the data?\n",
    "# use the agg method:\n",
    "\n",
    "country_gb['CompTotal'].agg(['median', 'mean', 'std'])\n",
    "# Should you want to zoom in on a specific country:\n",
    "# country_gb['CompTotal'].agg(['median', 'mean', 'std']).loc['Canada']"
   ]
  },
  {
   "cell_type": "code",
   "execution_count": null,
   "metadata": {},
   "outputs": [],
   "source": [
    "# Let's say I want to see the number of Python users per country.\n",
    "pdf.LanguageHaveWorkedWith\n",
    "# pdf.LanguageHaveWorkedWith.str.contains('Python')\n",
    "\n",
    "# So, this should work:\n",
    "# country_gb['LanguageHaveWorkedWith'].str.contains('Python').sum()\n",
    "# nope, we need to use apply here:\n",
    "# country_gb['LanguageHaveWorkedWith'].apply(lambda x: x.str.contains('Python').sum())\n"
   ]
  },
  {
   "cell_type": "code",
   "execution_count": null,
   "metadata": {},
   "outputs": [],
   "source": [
    "# Well that's nice, let's make it more interesting. What about percentage of users that are working with Python in every city?\n",
    "python_users_country = country_gb['LanguageHaveWorkedWith'].apply(lambda x: x.str.contains('Python').sum())\n",
    "country_respondents = pdf['Country'].value_counts()"
   ]
  },
  {
   "cell_type": "code",
   "execution_count": null,
   "metadata": {},
   "outputs": [],
   "source": [
    "python_df = pd.concat([python_users_country, country_respondents], axis='columns')\n",
    "python_df"
   ]
  },
  {
   "cell_type": "code",
   "execution_count": null,
   "metadata": {},
   "outputs": [],
   "source": [
    "# Let's rename the columns of the new DataFrame\n",
    "python_df.rename(columns={'Country': 'NumRespondents', 'LanguageHaveWorkedWith': 'NumKnowsPython'}, inplace=True)\n",
    "python_df"
   ]
  },
  {
   "cell_type": "code",
   "execution_count": null,
   "metadata": {},
   "outputs": [],
   "source": [
    "python_df['PctKnowsPython'] = python_df.NumKnowsPython / python_df.NumRespondents * 100\n",
    "python_df"
   ]
  },
  {
   "cell_type": "code",
   "execution_count": null,
   "metadata": {},
   "outputs": [],
   "source": [
    "python_df.sort_values(by='PctKnowsPython', ascending=False)"
   ]
  },
  {
   "cell_type": "code",
   "execution_count": null,
   "metadata": {},
   "outputs": [],
   "source": [
    "python_df.loc['Japan']['PctKnowsPython']"
   ]
  }
 ],
 "metadata": {
  "kernelspec": {
   "display_name": "Python 3.10.5 ('myenv')",
   "language": "python",
   "name": "python3"
  },
  "language_info": {
   "codemirror_mode": {
    "name": "ipython",
    "version": 3
   },
   "file_extension": ".py",
   "mimetype": "text/x-python",
   "name": "python",
   "nbconvert_exporter": "python",
   "pygments_lexer": "ipython3",
   "version": "3.10.5"
  },
  "orig_nbformat": 4,
  "vscode": {
   "interpreter": {
    "hash": "266e07f64aa3f1afd9991a0b824d04fa241a0ccb3b0a1eb69e96cbe416527717"
   }
  }
 },
 "nbformat": 4,
 "nbformat_minor": 2
}
