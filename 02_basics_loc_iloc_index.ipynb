{
 "cells": [
  {
   "cell_type": "code",
   "execution_count": null,
   "metadata": {},
   "outputs": [],
   "source": [
    "import pandas as pd"
   ]
  },
  {
   "cell_type": "code",
   "execution_count": null,
   "metadata": {},
   "outputs": [],
   "source": [
    "person = {\n",
    "    \"first\": \"Efi\",\n",
    "    \"last\": \"Coman\",\n",
    "    \"email\": \"eficoman@purim.org\"\n",
    "}"
   ]
  },
  {
   "cell_type": "code",
   "execution_count": null,
   "metadata": {},
   "outputs": [],
   "source": [
    "persons = {\n",
    "    \"first\": [\"Efi\"],\n",
    "    \"last\": [\"Coman\"],\n",
    "    \"email\": [\"eficoman@purim.org\"]\n",
    "}"
   ]
  },
  {
   "cell_type": "code",
   "execution_count": null,
   "metadata": {},
   "outputs": [],
   "source": [
    "persons = {\n",
    "    \"first\": [\"Efi\", \"Fritz\", \"Dixie\"],\n",
    "    \"last\": [\"Coman\", \"Johansen\", \"Normus\"],\n",
    "    \"email\": [\"eficoman@purim.org\", \"Fandango@bar.gov\", \"normusdixie@gmail.com\"]\n",
    "}"
   ]
  },
  {
   "cell_type": "code",
   "execution_count": null,
   "metadata": {},
   "outputs": [],
   "source": [
    "pdf_persons = pd.DataFrame(persons)"
   ]
  },
  {
   "cell_type": "code",
   "execution_count": null,
   "metadata": {},
   "outputs": [],
   "source": [
    "pdf_persons"
   ]
  },
  {
   "cell_type": "code",
   "execution_count": null,
   "metadata": {},
   "outputs": [],
   "source": [
    "# access single column\n",
    "pdf_persons['email']"
   ]
  },
  {
   "cell_type": "code",
   "execution_count": null,
   "metadata": {},
   "outputs": [],
   "source": [
    "type(pdf_persons['email'])"
   ]
  },
  {
   "cell_type": "code",
   "execution_count": null,
   "metadata": {},
   "outputs": [],
   "source": [
    "# second way to get a Series from a DataFrame\n",
    "pdf_persons.email\n",
    "\n",
    "# Less friendly (e.g. column named count)"
   ]
  },
  {
   "cell_type": "code",
   "execution_count": null,
   "metadata": {},
   "outputs": [],
   "source": [
    "# access multiple columns\n",
    "pdf_persons[['last', 'email']]"
   ]
  },
  {
   "cell_type": "code",
   "execution_count": null,
   "metadata": {},
   "outputs": [],
   "source": [
    "type(pdf_persons[['last', 'email']])"
   ]
  },
  {
   "cell_type": "markdown",
   "metadata": {},
   "source": []
  },
  {
   "cell_type": "code",
   "execution_count": null,
   "metadata": {},
   "outputs": [],
   "source": [
    "# list columnd\n",
    "pdf_persons.columns"
   ]
  },
  {
   "cell_type": "markdown",
   "metadata": {},
   "source": [
    "## loc and iloc"
   ]
  },
  {
   "cell_type": "code",
   "execution_count": null,
   "metadata": {},
   "outputs": [],
   "source": [
    "# loc and iloc\n",
    "\n",
    "pdf_persons.iloc[0]"
   ]
  },
  {
   "cell_type": "code",
   "execution_count": null,
   "metadata": {},
   "outputs": [],
   "source": [
    "pdf_persons.iloc[0:1]"
   ]
  },
  {
   "cell_type": "code",
   "execution_count": null,
   "metadata": {},
   "outputs": [],
   "source": [
    "pdf_persons.iloc[[0,2], 2]\n",
    "# pdf.iloc[1:3, 2]  # specify range using colon (slicing)\n",
    "# pdf.iloc[1:, 2]   # emit one of the values to indicate \"from-begining\" or \"until-end\"\n",
    "# pdf.iloc[1:-1, 2]"
   ]
  },
  {
   "cell_type": "markdown",
   "metadata": {},
   "source": [
    "What can we filter by using `.loc[]`\n",
    "\n",
    "* single label, e.g. 5 or 'a', (note that 5 is interpreted as a *label* of the index, and **never** as an integer position along the index).\n",
    "* list or array of labels, e.g. ['a', 'b', 'c'].\n",
    "* slice object with labels, e.g. 'a':'f'.\n",
    "* boolean array of the same length as the axis being sliced, e.g. [True, False, True].\n",
    "* alignable boolean Series. The index of the key will be aligned before masking.\n",
    "* alignable Index. The Index of the returned selection will be the input.\n",
    "* callable function with one argument (the calling Series or\n",
    "  DataFrame) and that returns valid output for indexing (one of the above)"
   ]
  },
  {
   "cell_type": "code",
   "execution_count": null,
   "metadata": {},
   "outputs": [],
   "source": [
    "pdf_persons.loc[[0, 1]]  # loc allows the usage of label\n",
    "# pdf.loc[[0, 1], 'email'] # Choose a specific column (unlike iloc, also by name)\n",
    "# pdf.loc[[0, 1], ['email', 'last']] # See that the cloumn order in the result is not the native order"
   ]
  },
  {
   "cell_type": "code",
   "execution_count": null,
   "metadata": {},
   "outputs": [],
   "source": [
    "pdf_persons.columns"
   ]
  },
  {
   "cell_type": "code",
   "execution_count": null,
   "metadata": {},
   "outputs": [],
   "source": [
    "# Back to the stack overflow data sets\n",
    "pdf = pd.read_csv('./data/survey_results_public.csv')\n",
    "schema_pdf = pd.read_csv('./data/survey_results_schema.csv')"
   ]
  },
  {
   "cell_type": "code",
   "execution_count": null,
   "metadata": {},
   "outputs": [],
   "source": [
    "pdf.SOAccount.value_counts()\n",
    "# pdf.loc[1, 'SOAccount']"
   ]
  },
  {
   "cell_type": "markdown",
   "metadata": {},
   "source": [
    "## Indexes"
   ]
  },
  {
   "cell_type": "code",
   "execution_count": null,
   "metadata": {},
   "outputs": [],
   "source": [
    "pdf_persons.index"
   ]
  },
  {
   "cell_type": "code",
   "execution_count": null,
   "metadata": {},
   "outputs": [],
   "source": [
    "pdf_persons.set_index('email')"
   ]
  },
  {
   "cell_type": "code",
   "execution_count": null,
   "metadata": {},
   "outputs": [],
   "source": [
    "# pdf_persons.set_index('email', inplace=True)\n",
    "pdf_persons # WO inplace=True the change is not permanent. uncomment above and rerun\n"
   ]
  },
  {
   "cell_type": "code",
   "execution_count": null,
   "metadata": {},
   "outputs": [],
   "source": [
    "pdf_persons.index"
   ]
  },
  {
   "cell_type": "code",
   "execution_count": null,
   "metadata": {},
   "outputs": [],
   "source": [
    "pdf_persons.loc[0]  # There is no longer an integer index, you can still use iloc for that\n",
    "# pdf_persons.loc[\"Fandango@bar.gov\"]\n",
    "# pdf_persons.loc[\"eficoman@purim.org\":\"normusdixie@gmail.com\"]\n",
    "# pdf_persons.loc[\"Fandango@bar.gov\":]"
   ]
  },
  {
   "cell_type": "code",
   "execution_count": null,
   "metadata": {},
   "outputs": [],
   "source": [
    "pdf_persons.index"
   ]
  }
 ],
 "metadata": {
  "kernelspec": {
   "display_name": "Python 3.10.5 ('myenv')",
   "language": "python",
   "name": "python3"
  },
  "language_info": {
   "codemirror_mode": {
    "name": "ipython",
    "version": 3
   },
   "file_extension": ".py",
   "mimetype": "text/x-python",
   "name": "python",
   "nbconvert_exporter": "python",
   "pygments_lexer": "ipython3",
   "version": "3.10.5"
  },
  "orig_nbformat": 4,
  "vscode": {
   "interpreter": {
    "hash": "266e07f64aa3f1afd9991a0b824d04fa241a0ccb3b0a1eb69e96cbe416527717"
   }
  }
 },
 "nbformat": 4,
 "nbformat_minor": 2
}
