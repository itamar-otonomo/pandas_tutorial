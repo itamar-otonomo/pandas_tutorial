{
 "cells": [
  {
   "cell_type": "code",
   "execution_count": null,
   "metadata": {},
   "outputs": [],
   "source": [
    "import pandas as pd"
   ]
  },
  {
   "cell_type": "code",
   "execution_count": null,
   "metadata": {},
   "outputs": [],
   "source": [
    "pdf_persons = pd.DataFrame({\n",
    "    \"first\": [\"Efi\", \"Fritz\", \"Dixie\", \"Theodor\"],\n",
    "    \"last\": [\"Coman\", \"Johansen\", \"Normus\", \"Normus\"],\n",
    "    \"email\": [\"EfiComan@purim.org\", \"Fandango@bar.gov\", \"NormusDixie@gmail.com\", \"theOdOr@bbs.co.il\"]\n",
    "})"
   ]
  },
  {
   "cell_type": "code",
   "execution_count": null,
   "metadata": {},
   "outputs": [],
   "source": [
    "pdf_persons.sort_values(by='last', ascending=False)"
   ]
  },
  {
   "cell_type": "code",
   "execution_count": null,
   "metadata": {},
   "outputs": [],
   "source": [
    "pdf_persons.sort_values(by=['last', 'first'], ascending=False)"
   ]
  },
  {
   "cell_type": "code",
   "execution_count": null,
   "metadata": {},
   "outputs": [],
   "source": [
    "# Really isoteric but what if I want the sorting order to be ascending for last ans descending for first?\n",
    "pdf_persons.sort_values(by=['last', 'first'], ascending=[False, True], inplace=True)\n",
    "pdf_persons"
   ]
  },
  {
   "cell_type": "code",
   "execution_count": null,
   "metadata": {},
   "outputs": [],
   "source": [
    "# Sorting on index\n",
    "pdf_persons\n",
    "# pdf_persons.sort_index()\n",
    "# pdf_persons.reset_index(drop=True)\n",
    "# pdf_persons.sort_index(inplace=True)"
   ]
  },
  {
   "cell_type": "code",
   "execution_count": null,
   "metadata": {},
   "outputs": [],
   "source": [
    "# sort_values also works on Series\n",
    "pdf_persons['last'].sort_values()"
   ]
  },
  {
   "cell_type": "code",
   "execution_count": null,
   "metadata": {},
   "outputs": [],
   "source": [
    "pdf_survey = pd.read_csv('./data/survey_results_public.csv')\n"
   ]
  },
  {
   "cell_type": "code",
   "execution_count": null,
   "metadata": {},
   "outputs": [],
   "source": [
    "# sort survey results by country\n",
    "pdf_survey.sort_values(by='Country', inplace=True)"
   ]
  },
  {
   "cell_type": "code",
   "execution_count": null,
   "metadata": {},
   "outputs": [],
   "source": [
    "pdf_survey[['Country', 'CompTotal']].head(50)\n",
    "pdf_survey[['Country', 'CompTotal']].sort_values(by=['Country', 'CompTotal'], ascending=[True, False]).head(50)"
   ]
  },
  {
   "cell_type": "code",
   "execution_count": null,
   "metadata": {},
   "outputs": [],
   "source": [
    "# nlargest\n",
    "pdf_survey[['Country', 'CompTotal']].nlargest(50, 'CompTotal')\n",
    "# pdf_survey[['Country', 'CompTotal']].nsmallest(50, 'CompTotal')"
   ]
  }
 ],
 "metadata": {
  "kernelspec": {
   "display_name": "Python 3.10.5 ('myenv')",
   "language": "python",
   "name": "python3"
  },
  "language_info": {
   "codemirror_mode": {
    "name": "ipython",
    "version": 3
   },
   "file_extension": ".py",
   "mimetype": "text/x-python",
   "name": "python",
   "nbconvert_exporter": "python",
   "pygments_lexer": "ipython3",
   "version": "3.10.5"
  },
  "orig_nbformat": 4,
  "vscode": {
   "interpreter": {
    "hash": "266e07f64aa3f1afd9991a0b824d04fa241a0ccb3b0a1eb69e96cbe416527717"
   }
  }
 },
 "nbformat": 4,
 "nbformat_minor": 2
}
