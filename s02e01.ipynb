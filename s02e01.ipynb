{
 "cells": [
  {
   "cell_type": "code",
   "execution_count": null,
   "metadata": {},
   "outputs": [],
   "source": [
    "import geopandas as gpd\n",
    "import pandas as pd\n",
    "from keplergl import KeplerGl\n",
    "from shapely.geometry import Polygon\n",
    "import pickle"
   ]
  },
  {
   "cell_type": "markdown",
   "metadata": {},
   "source": [
    "## Load a geo-json file into a geo-dataframe"
   ]
  },
  {
   "cell_type": "code",
   "execution_count": null,
   "metadata": {},
   "outputs": [],
   "source": [
    "gpdf_lines = gpd.read_file('./data/madrid_lines_sample.json')\n",
    "# gpdf_lines"
   ]
  },
  {
   "cell_type": "code",
   "execution_count": null,
   "metadata": {},
   "outputs": [],
   "source": [
    "gpdf_lines.geometry.plot()"
   ]
  },
  {
   "cell_type": "code",
   "execution_count": null,
   "metadata": {},
   "outputs": [],
   "source": [
    "gpdf_lines.explore(column='count_by_area',\n",
    "                cmap=\"Set1\")"
   ]
  },
  {
   "cell_type": "markdown",
   "metadata": {},
   "source": [
    "## Create a function that turns lines into polygons with width set by number of lanes"
   ]
  },
  {
   "cell_type": "code",
   "execution_count": null,
   "metadata": {},
   "outputs": [],
   "source": [
    "def lines_to_polygons(gpdf, epsg='32630') -> gpd.GeoDataFrame:\n",
    "    LANE_WIDTH = 3.0\n",
    "\n",
    "    # convert crs to UTM 30T (30N) which is EPSG:32630\n",
    "    ways_utm_gpdf = gpdf.to_crs(epsg=epsg)\n",
    "    ways_utm_gpdf.loc[:, ['lanes']] = ways_utm_gpdf.lanes.astype(int)\n",
    "\n",
    "    # convert all lineStrings to polygons where the width is determined by \n",
    "\n",
    "    f = lambda x, y: x.buffer(LANE_WIDTH * float(y), cap_style=2)\n",
    "    ways_utm_gpdf.geometry = ways_utm_gpdf.apply(lambda x: f(x.geometry, x.lanes), axis=1)\n",
    "\n",
    "    # Add an \"area\" column with m^2 of every polygon\n",
    "    ways_utm_gpdf['area_m2'] = ways_utm_gpdf.geometry.area\n",
    "\n",
    "    # CRS now converted back to WGS84\n",
    "\n",
    "    ways_gpdf_polygons = ways_utm_gpdf.to_crs(crs='wgs84')\n",
    "\n",
    "    return ways_gpdf_polygons"
   ]
  },
  {
   "cell_type": "markdown",
   "metadata": {},
   "source": [
    "### How it's done:\n",
    "\n",
    "* Change CRS to UTM (enable us to use meters for width and measure area of polygons in m^2)\n",
    "* Morph linestrings into polygons with width which is \\<lanes\\> * \\<estimated width of a lane in meters\\>\n",
    "* Add new column that indicates the area of every polygon in m^2\n",
    "* Change CRS into WGS84, back from meters to degrees. "
   ]
  },
  {
   "cell_type": "code",
   "execution_count": null,
   "metadata": {},
   "outputs": [],
   "source": [
    "gpdf_polygons = lines_to_polygons(gpdf_lines)\n"
   ]
  },
  {
   "cell_type": "code",
   "execution_count": null,
   "metadata": {},
   "outputs": [],
   "source": [
    "gpdf_polygons.explore(column='lanes')"
   ]
  },
  {
   "cell_type": "code",
   "execution_count": null,
   "metadata": {},
   "outputs": [],
   "source": [
    "map = KeplerGl(height=700)\n",
    "map.add_data(gpdf_polygons.copy(), name='polygons')\n",
    "map.add_data(gpdf_lines.copy(), name='lines')\n",
    "with open('./data/map_config.bin', 'rb') as f:\n",
    "    map.config = pickle.load(f)"
   ]
  },
  {
   "cell_type": "code",
   "execution_count": null,
   "metadata": {},
   "outputs": [],
   "source": [
    "map"
   ]
  },
  {
   "cell_type": "code",
   "execution_count": null,
   "metadata": {},
   "outputs": [],
   "source": [
    "# # re-save config\n",
    "# with open('map_config.bin','+wb') as f:\n",
    "#     pickle.dump(map.config, f)"
   ]
  }
 ],
 "metadata": {
  "kernelspec": {
   "display_name": "Python 3.9.12 ('myenv')",
   "language": "python",
   "name": "python3"
  },
  "language_info": {
   "codemirror_mode": {
    "name": "ipython",
    "version": 3
   },
   "file_extension": ".py",
   "mimetype": "text/x-python",
   "name": "python",
   "nbconvert_exporter": "python",
   "pygments_lexer": "ipython3",
   "version": "3.10.5"
  },
  "orig_nbformat": 4,
  "vscode": {
   "interpreter": {
    "hash": "266e07f64aa3f1afd9991a0b824d04fa241a0ccb3b0a1eb69e96cbe416527717"
   }
  }
 },
 "nbformat": 4,
 "nbformat_minor": 2
}
