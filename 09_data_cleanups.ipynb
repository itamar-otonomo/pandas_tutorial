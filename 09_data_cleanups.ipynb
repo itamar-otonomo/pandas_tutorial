{
 "cells": [
  {
   "cell_type": "code",
   "execution_count": null,
   "metadata": {},
   "outputs": [],
   "source": [
    "import pandas as pd\n",
    "import numpy as np"
   ]
  },
  {
   "cell_type": "code",
   "execution_count": null,
   "metadata": {},
   "outputs": [],
   "source": [
    "pdf_persons = pd.DataFrame({\n",
    "    \"first\": [\"Efi\", \"Fritz\", \"Dixie\", \"Theodor\", np.nan, None, 'NA'],\n",
    "    \"last\": [\"Coman\", \"Johansen\", \"Normus\", \"Normus\", np.nan, np.nan, 'Missing'],\n",
    "    \"email\": [\"EfiComan@purim.org\", \"Fandango@bar.gov\", \"NormusDixie@gmail.com\", None, np.nan, 'Anonymous@email.com', 'NA'],\n",
    "    \"age\": ['33', '55', '63', '36', None, None, 'Missing']\n",
    "})\n",
    "pdf_survey = pd.read_csv('./data/survey_results_public.csv')"
   ]
  },
  {
   "cell_type": "code",
   "execution_count": null,
   "metadata": {},
   "outputs": [],
   "source": [
    "pdf_persons"
   ]
  },
  {
   "cell_type": "code",
   "execution_count": null,
   "metadata": {},
   "outputs": [],
   "source": [
    "pdf_persons.dropna()"
   ]
  },
  {
   "cell_type": "code",
   "execution_count": null,
   "metadata": {},
   "outputs": [],
   "source": [
    "pdf_persons.dropna(axis='index', how='any') # This is the default so, same result as before"
   ]
  },
  {
   "cell_type": "code",
   "execution_count": null,
   "metadata": {},
   "outputs": [],
   "source": [
    "pdf_persons.dropna(axis='index', how='all') # drop a row if all the values are missing"
   ]
  },
  {
   "cell_type": "code",
   "execution_count": null,
   "metadata": {},
   "outputs": [],
   "source": [
    "pdf_persons.dropna(axis='columns', how='all') # drop any column with all values missing. In our case nothing"
   ]
  },
  {
   "cell_type": "code",
   "execution_count": null,
   "metadata": {},
   "outputs": [],
   "source": [
    "# What if we want to be more specific, like drop a row if email is not set\n",
    "pdf_persons.dropna(axis='index', how='any', subset=['email']) # how doesn't matter with one item is subset..\n"
   ]
  },
  {
   "cell_type": "code",
   "execution_count": null,
   "metadata": {},
   "outputs": [],
   "source": [
    "# Lets change our custom NA/Missing to proper NaNs\n",
    "pdf_persons = pdf_persons.replace('NA', np.nan).replace('Missing', np.nan)\n",
    "pdf_persons\n"
   ]
  },
  {
   "cell_type": "code",
   "execution_count": null,
   "metadata": {},
   "outputs": [],
   "source": [
    "# Get a mask of NaN values in the DataFrame\n",
    "# See that Python's None is treated as NaN too\n",
    "pdf_persons.isna()"
   ]
  },
  {
   "cell_type": "code",
   "execution_count": null,
   "metadata": {},
   "outputs": [],
   "source": [
    "# Fill NaN cells with a pre determined value.\n",
    "# Example: look at the value as a grade for a task and that task was never submitted. \n",
    "# In this case, you would want to replace the NaN with 0\n",
    "pdf_persons.fillna('bobo_is_missing')\n"
   ]
  },
  {
   "cell_type": "code",
   "execution_count": null,
   "metadata": {},
   "outputs": [],
   "source": [
    "# filled by column-name\n",
    "pdf_persons.fillna(value={'age': '0'})\n"
   ]
  },
  {
   "cell_type": "code",
   "execution_count": null,
   "metadata": {},
   "outputs": [],
   "source": [
    "# What's the average age?\n",
    "pdf_persons.age.mean()"
   ]
  },
  {
   "cell_type": "code",
   "execution_count": null,
   "metadata": {},
   "outputs": [],
   "source": [
    "# We need to convert the column to numericals\n",
    "pdf_persons.dtypes"
   ]
  },
  {
   "cell_type": "code",
   "execution_count": null,
   "metadata": {},
   "outputs": [],
   "source": [
    "# age is currently a string typed column\n",
    "pdf_persons['age'] = pdf_persons['age'].astype(int)"
   ]
  },
  {
   "cell_type": "code",
   "execution_count": null,
   "metadata": {},
   "outputs": [],
   "source": [
    "# a column with NaNs cannot be an integer. type of np.nan is float\n",
    "pdf_persons['age'] = pdf_persons['age'].astype(float)\n",
    "pdf_persons"
   ]
  },
  {
   "cell_type": "code",
   "execution_count": null,
   "metadata": {},
   "outputs": [],
   "source": [
    "pdf_persons.dtypes"
   ]
  },
  {
   "cell_type": "code",
   "execution_count": null,
   "metadata": {},
   "outputs": [],
   "source": [
    "# Now we can get the correct mean value of the age column\n",
    "pdf_persons.age.mean()"
   ]
  },
  {
   "cell_type": "code",
   "execution_count": null,
   "metadata": {},
   "outputs": [],
   "source": [
    "# Shall we cleanup something from the real world?\n",
    "# What's the average number of coding years in the SOF survey?\n",
    "\n",
    "pdf_survey.YearsCode\n",
    "\n",
    "# The dtype is object, meaning string. "
   ]
  },
  {
   "cell_type": "code",
   "execution_count": null,
   "metadata": {},
   "outputs": [],
   "source": [
    "# Try to cast into integer?\n",
    "pdf_survey.YearsCode.astype(int)"
   ]
  },
  {
   "cell_type": "code",
   "execution_count": null,
   "metadata": {},
   "outputs": [],
   "source": [
    "# OK we must use float then!\n",
    "pdf_survey.YearsCode.astype(float)"
   ]
  },
  {
   "cell_type": "code",
   "execution_count": null,
   "metadata": {},
   "outputs": [],
   "source": [
    "# Dang, who put that 'More than 50 years' in that column?!\n",
    "# Cleaning is not always easy!\n",
    "\n",
    "pdf_survey.YearsCode.unique()"
   ]
  },
  {
   "cell_type": "code",
   "execution_count": null,
   "metadata": {},
   "outputs": [],
   "source": [
    "to_replace = {\n",
    "    'More than 50 years': '50',\n",
    "    'Less than 1 year': '0'\n",
    "}\n",
    "\n",
    "pdf_survey.YearsCode.replace(to_replace).unique()\n",
    "\n",
    "# yesssss, looking better!"
   ]
  },
  {
   "cell_type": "code",
   "execution_count": null,
   "metadata": {},
   "outputs": [],
   "source": [
    "pdf_survey['YearsCode'] = pdf_survey.YearsCode.replace(to_replace)"
   ]
  },
  {
   "cell_type": "code",
   "execution_count": null,
   "metadata": {},
   "outputs": [],
   "source": [
    "# now lets try casting again\n",
    "pdf_survey['YearsCode'] = pdf_survey['YearsCode'].astype(float)"
   ]
  },
  {
   "cell_type": "code",
   "execution_count": null,
   "metadata": {},
   "outputs": [],
   "source": [
    "# now pluck that mean value\n",
    "pdf_survey.YearsCode.mean()"
   ]
  }
 ],
 "metadata": {
  "kernelspec": {
   "display_name": "Python 3.10.5 ('myenv')",
   "language": "python",
   "name": "python3"
  },
  "language_info": {
   "codemirror_mode": {
    "name": "ipython",
    "version": 3
   },
   "file_extension": ".py",
   "mimetype": "text/x-python",
   "name": "python",
   "nbconvert_exporter": "python",
   "pygments_lexer": "ipython3",
   "version": "3.10.5"
  },
  "orig_nbformat": 4,
  "vscode": {
   "interpreter": {
    "hash": "266e07f64aa3f1afd9991a0b824d04fa241a0ccb3b0a1eb69e96cbe416527717"
   }
  }
 },
 "nbformat": 4,
 "nbformat_minor": 2
}
